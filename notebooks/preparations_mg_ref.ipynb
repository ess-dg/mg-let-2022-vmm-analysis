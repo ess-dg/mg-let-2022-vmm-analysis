{
 "cells": [
  {
   "cell_type": "markdown",
   "metadata": {},
   "source": [
    "<font size=\"5\">\n",
    "\n",
    "# LET measurements 2022: MG.REF preparations\n",
    "\n",
    "<font size=\"3\">\n",
    "\n",
    "> __Author:__ A. Backis and R. Wahlin\n",
    "<br/>__Institute:__ University of Glasgow (UoG), European Spallation Source (ESS)\n",
    "<br/>__Date:__ 21/2-2022\n",
    "\n",
    "_Abstract:_\n",
    "This notebook contains the data analysis used for preparations with the MG.REF Multi-Grid detector."
   ]
  },
  {
   "cell_type": "markdown",
   "metadata": {},
   "source": [
    "# Contents\n",
    "    \n",
    "* [1. Introduction](#INTRODUCTION)\n",
    "    * [1.1 Packages](#PACKAGES)\n",
    "    * [1.2 Parameters](#PARAMETERS)\n",
    "* [2. Plotting](#PLOTTING)"
   ]
  },
  {
   "cell_type": "markdown",
   "metadata": {},
   "source": [
    "# 1. Introduction<a class=\"anchor\" id=\"INTRODUCTION\"></a>"
   ]
  },
  {
   "cell_type": "markdown",
   "metadata": {},
   "source": [
    "This notebook outlines the preparations made with the MG.REF detector."
   ]
  },
  {
   "cell_type": "markdown",
   "metadata": {},
   "source": [
    "## 1.1 Packages<a class=\"anchor\" id=\"PACKAGES\"></a>"
   ]
  },
  {
   "cell_type": "markdown",
   "metadata": {},
   "source": [
    "Import the required packages."
   ]
  },
  {
   "cell_type": "code",
   "execution_count": null,
   "metadata": {},
   "outputs": [],
   "source": [
    "# Autoload packages when doing an external change\n",
    "%load_ext autoreload\n",
    "%autoreload 2\n",
    "\n",
    "# Activate matplotlib in interactive notebook mode\n",
    "%matplotlib widget\n",
    "\n",
    "# Ensure custom packages can be reached\n",
    "import os\n",
    "import sys\n",
    "import json\n",
    "module_path = os.path.abspath(os.path.join('..'))\n",
    "if module_path not in sys.path:\n",
    "    sys.path.append(module_path)\n",
    "\n",
    "# General packages\n",
    "import numpy as np\n",
    "import pandas as pd\n",
    "\n",
    "# Local packages\n",
    "import file_handling.mg_mesytec_manage as mg_manage\n",
    "import file_handling.mg_mesytec_read_and_cluster as mg_read\n",
    "import plotting.mg_mesytec_basic_plot as mg_basic_plot"
   ]
  },
  {
   "cell_type": "markdown",
   "metadata": {},
   "source": [
    "## 1.2 Parameters<a class=\"anchor\" id=\"PARAMETERS\"></a>"
   ]
  },
  {
   "cell_type": "markdown",
   "metadata": {},
   "source": [
    "Define global parameters."
   ]
  },
  {
   "cell_type": "code",
   "execution_count": null,
   "metadata": {},
   "outputs": [],
   "source": [
    "# Paths to folders containing data\n",
    "nb_path = os.getcwd()\n",
    "MG_RAW_FOLDER = nb_path + '/../data/mg_ref/raw/'\n",
    "MG_PROCESSED_FOLDER = nb_path + '/../data/mg_ref/processed/'\n",
    "\n",
    "# MG standard filter\n",
    "mg_filter = {'wm': [1, 1, True],                   # Wire multiplicity\n",
    "             'gm': [1, 5, True],                   # Grid multiplicity\n",
    "             'wadc': [800, np.inf, True],          # Wire charge\n",
    "             'gadc': [800, np.inf, True],          # Grid charge\n",
    "             'tof': [0, np.inf, True],             # Time-of-flight (TDC channels)\n",
    "             'time': [0, np.inf, True],            # Time (TDC channels)\n",
    "             'bus': [0, 8, True],                  # Bus\n",
    "             'flag': [0, 1, False],                # =1 if different buses within same coincidence\n",
    "             'layer': [0, 19, False],              # Layer, front=0 to back=19\n",
    "             'row': [0, 11, False],                # Row, right to left (seen from neutrons)\n",
    "             'gch': [81, 118, True]}               # Grid channel, bottom=80 to top=119\n",
    "\n",
    "# MG standard parameters\n",
    "mg_area = 0.0225*0.0225*4*38 # m^2\n",
    "bus = 0"
   ]
  },
  {
   "cell_type": "markdown",
   "metadata": {},
   "source": [
    "# 2. Plotting<a class=\"anchor\" id=\"PLOTTING\"></a>"
   ]
  },
  {
   "cell_type": "code",
   "execution_count": null,
   "metadata": {},
   "outputs": [],
   "source": [
    "# Extract data\n",
    "file_name = 'ISIS_Source_2RUN_mvmelst_242_201104_115413'\n",
    "file_path = MG_RAW_FOLDER + file_name + '.zip'\n",
    "mg_manage.extract_and_save(file_name, file_path, MG_PROCESSED_FOLDER) # Only have to run this once\n",
    "mg_clu_run_1, mg_ev_run_1 = mg_manage.load_clusters_and_events(file_name, MG_PROCESSED_FOLDER)\n",
    "# Plot\n",
    "mg_basic_plot.mg_plot_basic_bus(file_name, bus, mg_clu_run_1, mg_ev_run_1, mg_filter, mg_area, file_name)"
   ]
  }
 ],
 "metadata": {
  "kernelspec": {
   "display_name": "Python 3",
   "language": "python",
   "name": "python3"
  },
  "language_info": {
   "codemirror_mode": {
    "name": "ipython",
    "version": 3
   },
   "file_extension": ".py",
   "mimetype": "text/x-python",
   "name": "python",
   "nbconvert_exporter": "python",
   "pygments_lexer": "ipython3",
   "version": "3.8.5"
  }
 },
 "nbformat": 4,
 "nbformat_minor": 5
}
