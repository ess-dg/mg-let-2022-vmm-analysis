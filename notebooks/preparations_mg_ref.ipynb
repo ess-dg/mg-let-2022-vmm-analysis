{
 "cells": [
  {
   "cell_type": "markdown",
   "id": "f51c85d7-27aa-49aa-9cc5-b0de46830870",
   "metadata": {},
   "source": [
    "<font size=\"5\">\n",
    "\n",
    "# LET measurements 2022: MG.REF preparations\n",
    "\n",
    "<font size=\"3\">\n",
    "\n",
    "> __Author:__ A. Backis\n",
    "<br/>__Institute:__ University of Glasgow (UoG), European Spallation Source (ESS)\n",
    "    \n",
    "> __Author:__ R. Wahlén\n",
    "<br/>__Institute:__ , Lund University (LU), European Spallation Source (ESS)\n",
    "<br/>__Date:__ 21/2-2022\n",
    "\n",
    "_Abstract:_\n",
    "This notebook contains the data analysis used for preparations with the MG.REF Multi-Grid detector."
   ]
  },
  {
   "cell_type": "markdown",
   "id": "a6399117-887f-45d2-85cf-c276e967b143",
   "metadata": {},
   "source": [
    "# Contents\n",
    "    \n",
    "* [1. Introduction](#INTRODUCTION)\n",
    "    * [1.1 Packages](#PACKAGES)\n",
    "    * [1.2 Parameters](#PARAMETERS)\n",
    "* [2. Plotting](#PLOTTING)"
   ]
  },
  {
   "cell_type": "markdown",
   "id": "b8f98415-7e97-4992-ae8d-9d43fe75b363",
   "metadata": {
    "tags": []
   },
   "source": [
    "#  Introduction<a class=\"anchor\" id=\"INTRODUCTION\"></a>"
   ]
  },
  {
   "cell_type": "markdown",
   "id": "774201fe-dc04-44a3-913e-0e22375c676c",
   "metadata": {},
   "source": [
    "This notebook outlines the preparations made with the MG.REF detector."
   ]
  },
  {
   "cell_type": "markdown",
   "id": "656cfdf4-9da6-42f3-b031-ddb2a42257ed",
   "metadata": {},
   "source": [
    "## Packages<a class=\"anchor\" id=\"PACKAGES\"></a>"
   ]
  },
  {
   "cell_type": "markdown",
   "id": "852515f0-ba98-450d-976d-f7510ed38197",
   "metadata": {},
   "source": [
    "Import the required packages."
   ]
  },
  {
   "cell_type": "code",
   "execution_count": null,
   "id": "b68582f9-86ba-49e0-8128-277dfba3a865",
   "metadata": {},
   "outputs": [],
   "source": [
    "# Autoload packages when doing an external change\n",
    "%load_ext autoreload\n",
    "%autoreload 2\n",
    "\n",
    "# Ensure custom packages can be reached\n",
    "import os\n",
    "import sys\n",
    "import json\n",
    "module_path = os.path.abspath(os.path.join('..'))\n",
    "if module_path not in sys.path:\n",
    "    sys.path.append(module_path)\n",
    "\n",
    "# Install packages\n",
    "\n",
    "!{sys.executable} -m pip install ipympl\n",
    "\n",
    "# General packages\n",
    "import numpy as np\n",
    "import pandas as pd\n",
    "\n",
    "# Local packages\n",
    "import file_handling.mg_mesytec_manage_seq as mg_manage_seq\n",
    "import file_handling.mg_mesytec_manage_ref as mg_manage_ref\n",
    "import file_handling.mg_mesytec_seq_read_and_cluster as mg_read\n",
    "import file_handling.mg_mesytec_ref_read_and_cluster as mg_read_ref\n",
    "import file_handling.mg_read as mg_read_old\n",
    "import file_handling.mg_manage as mg_manage_old\n",
    "import plotting.mg_mesytec_basic_plot as mg_basic_plot\n",
    "import plotting.mg_ref_mesytec_basic_plot as mg_basic_plot_ref\n",
    "\n",
    "# Activate matplotlib in interactive notebook mode\n",
    "%matplotlib widget"
   ]
  },
  {
   "cell_type": "markdown",
   "id": "59e89dd0-21f5-43cb-9303-a2b29d40fb6d",
   "metadata": {
    "tags": []
   },
   "source": [
    "## Parameters<a class=\"anchor\" id=\"PARAMETERS\"></a>"
   ]
  },
  {
   "cell_type": "markdown",
   "id": "185620b0-26de-4a2c-9191-51460f85108f",
   "metadata": {},
   "source": [
    "Define global parameters."
   ]
  },
  {
   "cell_type": "code",
   "execution_count": null,
   "id": "713218b4-30fe-45a9-bf74-3914f2d5eef6",
   "metadata": {},
   "outputs": [],
   "source": [
    "# Paths to folders containing data\n",
    "nb_path = os.getcwd()\n",
    "MG_RAW_FOLDER = nb_path + '/../data/mg_ref/raw/MG.CSPEC-Ref_Data/'\n",
    "MG_RAW_FOLDER_seq = nb_path + '/../data/mg_ref/raw/'\n",
    "MG_RAW_FOLDER_stf = nb_path + '/../data/mg_ref/raw/MG.CSPEC-Ref_STF/'\n",
    "MG_PROCESSED_FOLDER = nb_path + '/../data/mg_ref/processed/'\n",
    "tdc_to_h= (62.5e-9)/(60 ** 2)\n",
    "tdc_to_s= (62.5e-9)\n",
    "# MG standard filter\n",
    "mg_filter = {'wm': [1, 1, True],                   # Wire multiplicity\n",
    "             'gm': [1, 5, True],                   # Grid multiplicity\n",
    "             'wadc': [550, np.inf, True],          # Wire charge\n",
    "             'gadc': [550, np.inf, True],          # Grid charge\n",
    "             'tof': [0, np.inf, True],             # Time-of-flight (TDC channels)\n",
    "             'time': [0, np.inf, True],            # Time (TDC channels)\n",
    "             'bus': [0, 1, False],                 # Bus\n",
    "             'flag': [0, 1, False],                # =1 if different buses within same coincidence\n",
    "             'layer': [0, 19, False],              # Layer, front=0 to back=19\n",
    "             'row': [0, 11, False],                # Row, right to left (seen from neutrons)    \n",
    "             'gch': [81, 118, True]}               # Grid channel, bottom=80 to top=119\n",
    "\n",
    "mg_filter_seq2 = {'wm': [1, 1, True],                   # Wire multiplicity\n",
    "             'gm': [1, 5, False],                   # Grid multiplicity\n",
    "             'wadc': [800, np.inf, True],          # Wire charge\n",
    "             'gadc': [800, np.inf, True],          # Grid charge\n",
    "             'tof': [0, np.inf, True],             # Time-of-flight (TDC channels)\n",
    "             'time': [0, np.inf, True],            # Time (TDC channels)\n",
    "             'bus': [0, 1, False],                 # Bus\n",
    "             'flag': [0, 1, False],                # =1 if different buses within same coincidence\n",
    "             'layer': [0, 19, False],              # Layer, front=0 to back=19\n",
    "             'row': [0, 11, False],                # Row, right to left (seen from neutrons)\n",
    "             'max_dist': [0, 1, False],            # MAximum jump of grids in coincidance      \n",
    "             'gch': [99, 99, True]}               # Grid channel, bottom=64 to top=100\n",
    "\n",
    "mg_no_filter = {'wm': [1, 1, False],                  # Wire multiplicity\n",
    "                'gm': [1, 1, False],                  # Grid multiplicity\n",
    "                'wadc': [0, 600, False],         # Wire charge\n",
    "                'gadc': [0, 600, False],         # Grid charge\n",
    "                'tof': [0, np.inf, False],             # Time-of-flight (TDC channels)\n",
    "                'time': [0, np.inf, False],            # Time (TDC channels)\n",
    "                'bus': [0, 9, False],                 # Bus\n",
    "                'flag': [0, 1, False],                # =1 if different buses within same coincidence\n",
    "                'layer': [0, 15, False],              # Layer, front=0 to back=19\n",
    "                'row': [0, 11, False],                # Row, right to left (seen from neutrons)\n",
    "                'max_dist': [0, 1, False],            # MAximum jump of grids in coincidance      \n",
    "                'gch': [81, 118, False],              # Grid channel, bottom=64 to top=100\n",
    "                'wch': [32, 95, False]}                # wire channel\n",
    "\n",
    "mg_time_filter = {'wm': [0, 0, True],                # Wire multiplicity\n",
    "                'gm': [1, 5, False],                  # Grid multiplicity\n",
    "                'wadc': [800, np.inf, False],         # Wire charge\n",
    "                'gadc': [800, np.inf, False],         # Grid charge\n",
    "                'tof': [0, np.inf, False],             # Time-of-flight (TDC channels)\n",
    "                'time': [0, np.inf, False],           # Time (TDC channels)\n",
    "                'bus': [2, 2, True],                 # Bus\n",
    "                'flag': [0, 1, False],                # =1 if different buses within same coincidence\n",
    "                'layer': [0, 15, False],              # Layer, front=0 to back=19\n",
    "                'row': [0, 11, False],                # Row, right to left (seen from neutrons)\n",
    "                'max_dist': [0, 1, False],            # MAximum jump of grids in coincidance      \n",
    "                'gch': [121, 121, False]}              # Grid channel, bottom=64 to top=100\n",
    "\n",
    "mg_coincidence_filter = {'wm': [1, 1, True],                 # Wire multiplicity\n",
    "                       'gm': [1, 5, True],                   # Grid multiplicity\n",
    "                       'wadc': [550,np.inf, True],          # Wire charge\n",
    "                       'gadc': [550,np.inf, True],          # Grid charge\n",
    "                       'tof': [0, np.inf, True],             # Time-of-flight (TDC channels)\n",
    "                       'time': [0, np.inf, True],            # Time (TDC channels)\n",
    "                       'bus': [9, 9, True],                  # Bus\n",
    "                       'flag': [0, 1, False],                # =1 if different buses within same coincidence\n",
    "                       'layer': [0, 15, False],              # Layer, front=0 to back=19\n",
    "                       'row': [3, 6, False],                # Row, right to left (seen from neutrons)\n",
    "                       'gch_max': [97, 131, True],               # Gridchannel\n",
    "                       'wch': [32, 95, False]}               # wirechannels\n",
    "\n",
    "mg_ord_filter = {'wm': [1, 1, True],                 # Wire multiplicity\n",
    "                       'gm': [1, 5, True],                   # Grid multiplicity\n",
    "                       'wadc': [550,np.inf, True],          # Wire charge\n",
    "                       'gadc': [550,np.inf, True],          # Grid charge\n",
    "                       'tof': [0, np.inf, True],             # Time-of-flight (TDC channels)\n",
    "                       'time': [0.05/tdc_to_h, 0.4/tdc_to_h, True],            # Time (TDC channels)\n",
    "                       'bus': [9, 9, True],                  # Bus\n",
    "                       'flag': [0, 1, False],                # =1 if different buses within same coincidence\n",
    "                       'layer': [0, 15, False],              # Layer, front=0 to back=19\n",
    "                       'row': [3, 6, False],                # Row, right to left (seen from neutrons)\n",
    "                       'gch': [97, 131, True],               # Gridchannel\n",
    "                       'wch': [32, 95, False]}               # wirechannels\n",
    "\n",
    "mg_charge_filter = {'wm': [1, 1, False],                 # Wire multiplicity\n",
    "                       'gm': [1, 5, False],                   # Grid multiplicity\n",
    "                       'wadc': [150, 550, True],          # Wire charge\n",
    "                       'gadc': [150, 550, True],          # Grid charge\n",
    "                       'tof': [0, np.inf, True],             # Time-of-flight (TDC channels)\n",
    "                       'time': [0, np.inf, True],            # Time (TDC channels)\n",
    "                       'bus': [9, 9, True],                 # Bus\n",
    "                       'flag': [0, 1, False],                # =1 if different buses within same coincidence\n",
    "                       'layer': [0, 15, False],              # Layer, front=0 to back=19\n",
    "                       'row': [0, 11, False],                # Row, right to left (seen from neutrons)\n",
    "                       'max_dist': [0, 3, False],            # Maximum jump of grids in coincidance      \n",
    "                       'gch': [97, 131, True]}               # Gridchannels\n",
    "\n",
    "# MG standard parameters\n",
    "mg_area_ref = 0.025*0.025*6*35 # m^2\n",
    "mg_area_part = 0.025*0.025*4*35 # m^2\n",
    "mg_area_seq2 = 0.025*0.025*4*3 # m^2\n",
    "mg_area = 0.0225*0.0225*4*38 # m^2\n",
    "print(mg_area,mg_area_ref)"
   ]
  },
  {
   "cell_type": "markdown",
   "id": "fee0242c-5d82-4978-9277-4c4b3e00b99a",
   "metadata": {
    "tags": []
   },
   "source": [
    "# Plotting<a class=\"anchor\" id=\"PLOTTING\"></a>"
   ]
  },
  {
   "cell_type": "markdown",
   "id": "6850da70-f564-4689-a088-b9b548dcc9eb",
   "metadata": {},
   "source": [
    "## Summeries"
   ]
  },
  {
   "cell_type": "code",
   "execution_count": null,
   "id": "012979eb-5eb2-4d1d-98c8-77c3d106ca99",
   "metadata": {},
   "outputs": [],
   "source": [
    "# Extract data: For bus 0 and 1\n",
    "#file_name = 'LongWeekendRun_Unshileded_mvmelst_294_220311_150406'\n",
    "#file_name='shielded_gas_working_run_2_mvmelst_300_220316_084149'\n",
    "#file_name='shielded_run_3_mvmelst_301_220317_083909'\n",
    "#file_name='Cs-137_run1_CSPEC-LET_Utgard_220331_122834'\n",
    "#file_name='Unshielded_run2_CSPEC-LET_Utgard_220324_111809'\n",
    "#file_name='Unshielded_weekend_CSPEC-LET_Utgard_220325_113724'\n",
    "#file_name='shielded_weekend_run_mvmelst_302_220318_085531'\n",
    "#file_name='First_source_CSPEC-LET_Utgard_220328_155238'\n",
    "#file_name='Run_w_source_3_CSPEC-LET_Utgard_220330_095234'\n",
    "#file_name='Run_w_source_4_CSPEC-LET_Utgard_220330_150643'\n",
    "#file_name='Short_run_2_CSPEC-LET_Utgard_220330_111757'\n",
    "#file_name='Run_w_source_5_CSPEC-LET_Utgard_220330_155040'\n",
    "#file_name='grids_actually_trig_CSPEC-LET_Utgard_220401_103739'\n",
    "#file_name='CSPEC-LET_STFLongWeekend_GridTrig_220403_160045'\n",
    "#file_name='CSPEC-LET_STFLongWeekend_WireTrig_220401_172407'\n",
    "#file_name='CSPEC-LET_STFLongBG_220404_172930'\n",
    "#file_name='4_limit_CSPEC-LET_STFLongBG_220405_122035'\n",
    "#file_name='8_100_limit_BG_CSPEC-LET_STFLongBG_220405_124759'\n",
    "#file_name='Co60_8_limit_100_CSPEC-LET_STFLongBG_220405_123151'\n",
    "#file_name='CSPEC-LET_STF_CollimatedGamma_220405_145427'\n",
    "#file_name='CSPEC-LET_STF_CollimatedGamma_220405_152612'\n",
    "#file_name='CSPEC-LET_STF_CollimatedGamma_moved_220405_155517'\n",
    "#file_name='Co60_8_limit_CSPEC-LET_STFLongBG_220405_114359'\n",
    "#file_name='CSPEC-LET_STF_CollmiatedGamma_Test_220405_180035'\n",
    "#file_name='CSPEC-LET_STF_220406_095201_GTh2'\n",
    "#file_name='CSPEC-LET_STF_220406_095420_GTh3'\n",
    "#file_name='CSPEC-LET_STF_Test_220405_165718_Th6'\n",
    "#file_name='CSPEC-LET_STF_GTh6_nGeneratorOn_220406_101829'\n",
    "file_path = MG_RAW_FOLDER + file_name + '.zip'\n",
    "#mg_manage_old.extract_and_save(file_name, file_path, MG_PROCESSED_FOLDER) # Only have to run this once\n",
    "mg_clu_run_1, mg_ev_run_1 = mg_manage_old.load_clusters_and_events(file_name, MG_PROCESSED_FOLDER)"
   ]
  },
  {
   "cell_type": "code",
   "execution_count": null,
   "id": "2855fc81-77a7-4cde-95c2-6255433e431b",
   "metadata": {},
   "outputs": [],
   "source": [
    "bus = 2\n",
    "# Possebileties to not add last 4 wires and some middle grids\n",
    "#clusters_16w=mg_clu_run_1[~mg_clu_run_1.wch.isin([16,17,18,19,36,37,38,39,56,57,58,59,76,77,78,79])]\n",
    "#clusters_3_gr=clusters_16w[clusters_16w.gch.isin([98,99,100])]\n",
    "mg_basic_plot.mg_plot_basic_bus(file_name +'_not_filtered', bus, mg_clu_run_1, mg_ev_run_1, mg_no_filter, mg_area,save=True)"
   ]
  },
  {
   "cell_type": "code",
   "execution_count": null,
   "id": "54dba80e-89b4-4e49-870e-8050063a1b02",
   "metadata": {},
   "outputs": [],
   "source": [
    "bus=1\n",
    "mg_basic_plot.mg_plot_basic_bus(file_name +'_filtered_wo_last_4_w', bus, mg_clu_run_1, mg_ev_run_1, mg_filter, mg_area)"
   ]
  },
  {
   "cell_type": "code",
   "execution_count": null,
   "id": "c7c960cd-254c-4274-8fe6-6bac323b014c",
   "metadata": {},
   "outputs": [],
   "source": [
    "events_ord=mg_manage_ref.reorder_channels_events(mg_ev_run_1)\n",
    "clusters_ord=mg_manage_ref.reorder_channels_clusters(mg_clu_run_1)\n",
    "bus=9\n",
    "run=file_name\n",
    "mg_manage_ref.save_data(events_ord, MG_PROCESSED_FOLDER+str(run) + str(bus)  +'_ev.h5')\n",
    "mg_manage_ref.save_data(clusters_ord, MG_PROCESSED_FOLDER + str(run) + str(bus) + '_clu.h5')"
   ]
  },
  {
   "cell_type": "code",
   "execution_count": null,
   "id": "6c67ed9b-e17c-4f8c-9da3-a5e0e1ebec45",
   "metadata": {},
   "outputs": [],
   "source": [
    "mg_manage_ref.extract_and_save(file_name+'_ref', file_path, MG_PROCESSED_FOLDER) # Only have to run this once\n",
    "mg_clu_run_1, mg_ev_run_1 = mg_manage_seq.load_clusters_and_events(file_name+'_ref', MG_PROCESSED_FOLDER)"
   ]
  },
  {
   "cell_type": "code",
   "execution_count": null,
   "id": "2c952690-e67a-44ba-bd6d-a6fb69ad0fac",
   "metadata": {},
   "outputs": [],
   "source": [
    "#file_name = 'shielded_gas_shutoffpart_mvmelst_297_220314_171947'\n",
    "#file_name='shielded_gas_working_mvmelst_299_220315_131621'\n",
    "#file_name='shielded_gas_working_run_2_mvmelst_300_220316_084149'\n",
    "#file_name='shielded_run_3_mvmelst_301_220317_083909'\n",
    "#file_name='shielded_weekend_run_mvmelst_302_220318_085531'\n",
    "#file_name='Unshildes_STF_run1_CSPEC-LET_Utgard_220323_181605'\n",
    "#file_name='CSPEC-LET_STFLongWeekend_WireTrig_220401_172407'\n",
    "#file_name='CSPEC-LET_STF_Test_220405_165718_Th6'\n",
    "#file_name='CSPEC-LET_STF_GTh6_nGeneratorOn_220406_101829'\n",
    "#file_name='CSPEC-LET_STF_GTh6_GammaSrsMoved_220406_123318'\n",
    "#file_name='CSPEC-LET_STF_GTh6_nGeneratorOn_220406_101829'\n",
    "#file_name='CSPEC-LET_STF_CollmiatedGamma_Test_220405_180035'\n",
    "#file_name='CSPEC-LET_STFLongBG_220404_172930'\n",
    "#file_name='8_100_limit_BG_CSPEC-LET_STFLongBG_220405_124759'\n",
    "file_name='CSPEC-LET_STF_Test_220405_165718_Th6'\n",
    "file_path = MG_RAW_FOLDER_stf + file_name + '.zip'\n",
    "unzipped_path = mg_read_ref.unzip_data(file_path)\n",
    "data = mg_read_ref.import_data(unzipped_path)"
   ]
  },
  {
   "cell_type": "code",
   "execution_count": null,
   "id": "8ac2e49c-8b9c-41a5-9d98-e31b8c76090d",
   "metadata": {},
   "outputs": [],
   "source": [
    "# Extract clusters: Bunches together bus 2 and 3 to bus 9\n",
    "clusters, grch, gadc = mg_read_ref.extract_clusters(data)\n",
    "events = mg_read_ref.extract_events(data)\n",
    "# Extract clusters and events for bus 0 and 1\n",
    "#clusters01_raw = mg_read.extract_clusters(data)\n",
    "#events01 = mg_read.extract_events(data)"
   ]
  },
  {
   "cell_type": "code",
   "execution_count": null,
   "id": "9b938173-b212-477c-b337-82d6f06d5545",
   "metadata": {},
   "outputs": [],
   "source": []
  },
  {
   "cell_type": "code",
   "execution_count": null,
   "id": "4c0c0f77-22bf-49d7-86e9-574d5705faeb",
   "metadata": {},
   "outputs": [],
   "source": [
    "bus=9\n",
    "#file_name='CSPEC-LET_STF_GTh6_nGeneratorOn_220406_101829'\n",
    "#file_name='CSPEC-LET_STF_GTh6_GammaSrsMoved_220406_123318'\n",
    "#file_name='CSPEC-LET_STF_CollmiatedGamma_Test_220405_180035'\n",
    "#file_name='Run_w_source_4_CSPEC-LET_Utgard_220330_150643'\n",
    "#file_name = 'LongWeekendRun_Unshileded_mvmelst_294_220311_150406'\n",
    "#file_name='shielded_weekend_run_mvmelst_302_220318_085531'\n",
    "#file_name='CSPEC-LET_STFLongBG_220404_172930'\n",
    "#file_name='Co60_8_limit_100_CSPEC-LET_STFLongBG_220405_123151'\n",
    "#file_name='Run_w_source_5_CSPEC-LET_Utgard_220330_155040'\n",
    "file_name='Run_w_source_4_CSPEC-LET_Utgard_220330_150643'\n",
    "clusters, events= mg_manage_seq.load_clusters_and_events(file_name + str(bus), MG_PROCESSED_FOLDER)"
   ]
  },
  {
   "cell_type": "code",
   "execution_count": null,
   "id": "ca528d00-1ceb-4daa-b41f-b361d33c0de9",
   "metadata": {},
   "outputs": [],
   "source": [
    "bus=9\n",
    "mg_basic_plot_ref.mg_plot_basic_bus(file_name +'_BG_filtered', bus, clusters_ord, events_ord, mg_ord_filter, mg_area_part,save=True)\n"
   ]
  },
  {
   "cell_type": "code",
   "execution_count": null,
   "id": "99ef29ed-509f-4660-bdf5-e63ca0163ea5",
   "metadata": {},
   "outputs": [],
   "source": [
    "# Plot 3D image of coincidence\n",
    "clusters_filtered=mg_manage_ref.filter_data(clusters_ord,mg_no_filter)\n",
    "duration = (clusters_filtered.time.values[-1] - clusters_filtered.time.values[0]) * 62.5e-9\n",
    "if clusters.shape[0] != 0:\n",
    "    vmin = (1 * 1/duration)\n",
    "    vmax = (clusters_filtered.shape[0] // 450 + 5) * 1/duration\n",
    "    mg_basic_plot_ref.clusters_3d_plot(clusters_filtered, '3D surface plot of coincidences', vmin, vmax, duration)"
   ]
  },
  {
   "cell_type": "markdown",
   "id": "0659ab62-47cb-4e56-a753-1314342b3a25",
   "metadata": {},
   "source": [
    "## Plotting PHS comaparison"
   ]
  },
  {
   "cell_type": "markdown",
   "id": "427b8c3b-ddcb-4ce7-b450-8f252545cabd",
   "metadata": {},
   "source": [
    "### Total from all buses"
   ]
  },
  {
   "cell_type": "code",
   "execution_count": null,
   "id": "c8803a0d-de79-4d05-b48e-708479851e68",
   "metadata": {},
   "outputs": [],
   "source": [
    "bus0=0\n",
    "bus1=1\n",
    "bus2=9\n",
    "clusters01=mg_manage_seq.filter_data(mg_clu_run_1,mg_filter)\n",
    "clusters9=mg_manage_ref.filter_data(clusters_ord,mg_coincidence_filter)\n",
    "events01=mg_ev_run_1\n",
    "\n",
    "\n",
    "mg_basic_plot_ref.mg_plot_pulses(file_name+'_PHS_500_charge_filt_no_source', bus0, bus1, bus2 , \n",
    "                                 clusters01[clusters01.bus==bus0], events01[events01.bus==bus0], \n",
    "                                 clusters01[clusters01.bus==bus1], events01[events01.bus==bus1],\n",
    "                                 clusters9[clusters9.bus==bus2], events_ord[events_ord.bus==bus2])\n",
    "\n"
   ]
  },
  {
   "cell_type": "markdown",
   "id": "2e89a2de-1c4b-4370-ad81-339532f49db0",
   "metadata": {},
   "source": [
    "### Comparison of wires"
   ]
  },
  {
   "cell_type": "code",
   "execution_count": null,
   "id": "c08f5578-04cf-4304-a31c-bc2995d46716",
   "metadata": {},
   "outputs": [],
   "source": [
    "clusters_filtered=mg_manage.filter_data(clusters,mg_coincidence_filter)\n",
    "wires=[ 34, 45, 67, 89]\n",
    "save=False\n",
    "mg_basic_plot_ref.mg_plot_wires_sep(file_name, clusters_filtered, wires, save)"
   ]
  },
  {
   "cell_type": "markdown",
   "id": "1630ab32-fad0-482d-ba74-d38262340517",
   "metadata": {},
   "source": [
    "## Plot charge distrobutions"
   ]
  },
  {
   "cell_type": "markdown",
   "id": "5c54b0fe-bd57-402b-9007-1d61e77044d5",
   "metadata": {},
   "source": [
    "### All over 2 grids:"
   ]
  },
  {
   "cell_type": "code",
   "execution_count": null,
   "id": "4190b39b-11e4-424c-8d8f-f9eba34c9877",
   "metadata": {},
   "outputs": [],
   "source": [
    "clusters_filtered=mg_manage.filter_data(clusters,mg_coincidence_filter)\n",
    "mg_basic_plot_ref.plot_charge_distr(clusters_filtered,grid_channels, grid_adc)"
   ]
  },
  {
   "cell_type": "markdown",
   "id": "632b3628-3fe7-4b42-ba2a-3ab77ed911ac",
   "metadata": {},
   "source": [
    "### All over desided coincidence"
   ]
  },
  {
   "cell_type": "code",
   "execution_count": null,
   "id": "9c699f23-0dee-487c-9bf1-155dd336d4c3",
   "metadata": {},
   "outputs": [],
   "source": [
    "clusters_filtered=mg_manage.filter_data(clusters,mg_coincidence_filter)\n",
    "mg_basic_plot_ref.mg_plot_grid_distrobution(clusters_filtered, grid_charges, grid,8,5,file_name)"
   ]
  },
  {
   "cell_type": "markdown",
   "id": "b44b21ce-07ab-42c0-84fe-fb44768246ec",
   "metadata": {},
   "source": [
    "# Look at the charge distrobution"
   ]
  },
  {
   "cell_type": "code",
   "execution_count": null,
   "id": "af1b6f8d-3cc6-4e20-a940-976482a264f5",
   "metadata": {},
   "outputs": [],
   "source": [
    "bus=9\n",
    "clusters_filtered=mg_manage.filter_data(clusters,mg_coincidence_filter)\n",
    "clusters_filtered=mg_manage.filter_data(clusters_filtered,mg_charge_filter)\n",
    "mg_basic_plot_ref.mg_charge_dist(file_name, clusters_filtered, bus, False)"
   ]
  },
  {
   "cell_type": "markdown",
   "id": "16779e0f-2e1f-4d15-b779-ab3eb8403a6d",
   "metadata": {},
   "source": [
    "# Timing"
   ]
  },
  {
   "cell_type": "code",
   "execution_count": null,
   "id": "376a7365-1055-497b-b7aa-dc49e97c70eb",
   "metadata": {},
   "outputs": [],
   "source": [
    "time_diff=2e-6\n",
    "clusters_times=mg_manage_ref.merge_events_by_time(clusters_ord, time_diff)\n",
    "bus=9\n",
    "mg_basic_plot_ref.mg_plot_basic_bus(file_name +'_filtered_ord_source_150adc_time', bus, clusters_times, events_ord, mg_no_filter, mg_area_ref,save=True)"
   ]
  },
  {
   "cell_type": "code",
   "execution_count": null,
   "id": "33235e4a-3427-49b5-9651-b175cdff788d",
   "metadata": {},
   "outputs": [],
   "source": [
    "bus=9\n",
    "mg_basic_plot_ref.mg_plot_basic_bus(file_name +'_filtered_ord_source_150adc_time', bus, clusters_times, events_ord, mg_coincidence_filter, mg_area_ref,save=False)"
   ]
  },
  {
   "cell_type": "code",
   "execution_count": null,
   "id": "68583dc3-8545-420d-bf95-ef5b1969dded",
   "metadata": {},
   "outputs": [],
   "source": [
    "index=[]\n",
    "clusters_filtered=mg_manage_ref.filter_data(clusters_ord,mg_no_filter)\n",
    "mg_basic_plot_ref.mg_time_diff(clusters_filtered)\n",
    "diff_time=np.diff(clusters_filtered.time)\n",
    "time_diff=(2e-6) /tdc_to_s\n",
    "index=list(np.where(diff_time <= time_diff)[0])\n",
    "print(clusters_filtered.iloc[index].time)"
   ]
  },
  {
   "cell_type": "code",
   "execution_count": null,
   "id": "eb56209a-fe87-4d3e-8f91-a692d07b44f8",
   "metadata": {},
   "outputs": [],
   "source": [
    "clusters_filtered=mg_manage_ref.filter_data(clusters,mg_no_filter)\n",
    "mg_basic_plot_ref.mg_colormap_grid(clusters_filtered,120,6)\n",
    "        "
   ]
  },
  {
   "cell_type": "code",
   "execution_count": null,
   "id": "8230e09e-e626-4899-ae95-dbdb37f66fd7",
   "metadata": {},
   "outputs": [],
   "source": [
    "clusters_filtered=mg_manage_ref.filter_data(clusters_ord,mg_ord_filter)\n",
    "mg_basic_plot_ref.mg_colormap_grids(clusters_filtered,range(97,132),4)"
   ]
  },
  {
   "cell_type": "code",
   "execution_count": null,
   "id": "0864e90b-7b0a-4511-b4dd-886f24a6a320",
   "metadata": {},
   "outputs": [],
   "source": [
    "clusters_filtered=mg_manage_ref.filter_data(clusters_ord,mg_ord_filter)\n",
    "mg_basic_plot_ref.mg_colormap_layers(clusters_filtered,[0,15],num_rows=4)"
   ]
  },
  {
   "cell_type": "code",
   "execution_count": null,
   "id": "88528130-ef90-4ed1-8402-7ae328a243a1",
   "metadata": {},
   "outputs": [],
   "source": [
    "clusters_filtered=mg_manage_ref.filter_data(clusters_ord,mg_ord_filter)\n",
    "mg_basic_plot_ref.mg_colormap_wirerows(clusters_filtered,4)"
   ]
  },
  {
   "cell_type": "code",
   "execution_count": null,
   "id": "9b92e9f1-3bc8-4792-b939-d179d84bd30e",
   "metadata": {},
   "outputs": [],
   "source": [
    "mg_basic_plot_ref.mg_row_of_wires(clusters,range(65,80),124)"
   ]
  },
  {
   "cell_type": "code",
   "execution_count": null,
   "id": "a21010e5-a865-4e46-9f55-d0598c99a336",
   "metadata": {},
   "outputs": [],
   "source": [
    "mg_basic_plot_ref.mg_intersect(clusters,range(65,80),110)"
   ]
  },
  {
   "cell_type": "code",
   "execution_count": null,
   "id": "f94ffbe8-df10-46ed-b98b-92149a475210",
   "metadata": {},
   "outputs": [],
   "source": [
    "mg_basic_plot_ref.mg_intersect(clusters,file_name)"
   ]
  },
  {
   "cell_type": "code",
   "execution_count": null,
   "id": "47934afe-bd81-4ebe-80d3-465b0799f5a9",
   "metadata": {},
   "outputs": [],
   "source": [
    "clusters_filtered=mg_manage_ref.filter_data(clusters_ord,mg_ord_filter)\n",
    "mg_basic_plot_ref.mg_colormap_wirerows_int(clusters_filtered,4)"
   ]
  },
  {
   "cell_type": "code",
   "execution_count": null,
   "id": "d392bbe3-88f0-42f8-b6f2-8b918d0dbf7c",
   "metadata": {},
   "outputs": [],
   "source": [
    "clusters_filtered=mg_manage_ref.filter_data(clusters_ord,mg_ord_filter)\n",
    "mg_basic_plot_ref.mg_plott_sum(file_name, clusters_filtered,mg_area_ref)"
   ]
  },
  {
   "cell_type": "code",
   "execution_count": null,
   "id": "60c30a99-ec7f-4eb3-99bf-98e0bfa02714",
   "metadata": {},
   "outputs": [],
   "source": []
  }
 ],
 "metadata": {
  "kernelspec": {
   "display_name": "Python 3",
   "language": "python",
   "name": "python3"
  },
  "language_info": {
   "codemirror_mode": {
    "name": "ipython",
    "version": 3
   },
   "file_extension": ".py",
   "mimetype": "text/x-python",
   "name": "python",
   "nbconvert_exporter": "python",
   "pygments_lexer": "ipython3",
   "version": "3.8.5"
  },
  "toc-autonumbering": true
 },
 "nbformat": 4,
 "nbformat_minor": 5
}
