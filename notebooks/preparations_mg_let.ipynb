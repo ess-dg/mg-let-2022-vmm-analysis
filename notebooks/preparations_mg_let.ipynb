{
 "cells": [
  {
   "cell_type": "markdown",
   "id": "04c8c57a-bc97-4cd9-9105-e8c95b244bbf",
   "metadata": {},
   "source": [
    "<font size=\"5\">\n",
    "\n",
    "# Multi-Grid measurements at LET 2022 - preparations\n",
    "\n",
    "<font size=\"3\">\n",
    "\n",
    "> __Author:__ A. Backis\n",
    "<br/>__Institute:__ University of Glasgow (UoG), European Spallation Source (ESS)\n",
    "<br/>__Date:__ 6/10-2021\n",
    "\n",
    "_Abstract:_\n",
    "This notebook contains the data analysis used for the preparations leading up to the LET measurements with the Multi-Grid detector."
   ]
  },
  {
   "cell_type": "markdown",
   "id": "6fc4606e-b193-4909-bf35-d815988a090b",
   "metadata": {},
   "source": [
    "# Contents\n",
    "    \n",
    "* [1. Introduction](#INTRODUCTION)\n",
    "    * [1.1 Packages](#PACKAGES)\n",
    "    * [1.2 Parameters](#PARAMETERS)\n",
    "* [2. Validation](#VALIDATION)\n",
    "    * [2.1 Parsing](#PARSING)\n",
    "    * [2.2 Clustering](#CLUSTERING)\n",
    "* [3. Utgård](#UTGÅRD) "
   ]
  },
  {
   "cell_type": "markdown",
   "id": "415116df-f928-490b-9ad9-243ee14e3bd8",
   "metadata": {},
   "source": [
    "# 1. Introduction<a class=\"anchor\" id=\"INTRODUCTION\"></a>"
   ]
  },
  {
   "cell_type": "markdown",
   "id": "0001f0e2-1ce0-41d8-8a97-0502eb5d7259",
   "metadata": {},
   "source": [
    "Notebook showing the preparations leading up to the LET measurements."
   ]
  },
  {
   "cell_type": "markdown",
   "id": "d40c0484-e6be-4c88-aba1-9783640add23",
   "metadata": {},
   "source": [
    "## 1.1 Packages<a class=\"anchor\" id=\"PACKAGES\"></a>"
   ]
  },
  {
   "cell_type": "markdown",
   "id": "5f40d622-dee3-4d82-9b50-84c4233e92f9",
   "metadata": {},
   "source": [
    "Import necessary packages."
   ]
  },
  {
   "cell_type": "code",
   "execution_count": null,
   "id": "08aa8dc7-1f81-4cfb-a2d0-f21c174ce429",
   "metadata": {},
   "outputs": [],
   "source": [
    "# Autoload packages when doing an external change\n",
    "%load_ext autoreload\n",
    "%autoreload 2\n",
    "\n",
    "# Activate matplotlib in interactive notebook mode\n",
    "%matplotlib widget\n",
    "\n",
    "# Ensure custom packages can be reached\n",
    "import os\n",
    "import sys\n",
    "import json\n",
    "module_path = os.path.abspath(os.path.join('..'))\n",
    "if module_path not in sys.path:\n",
    "    sys.path.append(module_path)\n",
    "\n",
    "# General packages\n",
    "import os\n",
    "import time\n",
    "import numpy as np\n",
    "import pandas as pd\n",
    "import matplotlib.pyplot as plt\n",
    "from matplotlib.colors import LogNorm\n",
    "import plotly as py\n",
    "import plotly.graph_objs as go\n",
    "import matplotlib.patheffects as path_effects\n",
    "\n",
    "# Custom packages\n",
    "import file_handling.mg_vmm_read as mg_read\n",
    "import file_handling.mg_vmm_cluster as mg_cluster\n",
    "import mbuty.libTerminal as ta"
   ]
  },
  {
   "cell_type": "markdown",
   "id": "b63ad024-bad7-44df-bb73-613261169a70",
   "metadata": {},
   "source": [
    "## 1.2 Parameters<a class=\"anchor\" id=\"PARAMETERS\"></a>"
   ]
  },
  {
   "cell_type": "markdown",
   "id": "6d46a705-f4cf-438c-9014-55c974f1e932",
   "metadata": {},
   "source": [
    "Define global parameters."
   ]
  },
  {
   "cell_type": "code",
   "execution_count": null,
   "id": "2916f50e-b64a-4417-b75d-c6f943114522",
   "metadata": {},
   "outputs": [],
   "source": [
    "# Constants\n",
    "MODERATOR_TO_SAMPLE_IN_M = 25\n",
    "CSPEC_TYPE = 64\n",
    "TIME_RESOLUTION = 11.36e-9 # seconds\n",
    "\n",
    "# Paths to folders containing data\n",
    "nb_path = os.getcwd()\n",
    "TEST_FOLDER = nb_path + '/../data/test/'"
   ]
  },
  {
   "cell_type": "markdown",
   "id": "3fd32085-c348-41e2-9459-a052ff20a8fc",
   "metadata": {},
   "source": [
    "Prepare JSON file defining detector configuration."
   ]
  },
  {
   "cell_type": "code",
   "execution_count": null,
   "id": "fbbee509-4096-4a27-9a67-df66903988c5",
   "metadata": {},
   "outputs": [],
   "source": [
    "configuration_dict = {'detector': 'MG_LET',\n",
    "                      'columns': 2,\n",
    "                      'grids_per_column': 51,\n",
    "                      'rows_per_grid': 6,\n",
    "                      'layers_per_grid': 16,\n",
    "                      'voxel_pitch_x_in_mm': 22.5, \n",
    "                      'voxel_pitch_y_in_mm': 22.5, # This should be a bit more due to spacing between adjacent grids\n",
    "                      'voxel_pitch_z_in_mm': 10,\n",
    "                      'wire_asic': 0,\n",
    "                      'grid_asic': 1,\n",
    "                      'column_to_electronic': {0: {'Ring': 0, 'FEN': 1, 'Hybrid': 0},\n",
    "                                               1: {'Ring': 0, 'FEN': 1, 'Hybrid': 1}}\n",
    "                      }"
   ]
  },
  {
   "cell_type": "markdown",
   "id": "0741f1bf-da42-46fe-97f6-fbdfe6831eb8",
   "metadata": {},
   "source": [
    "Declare helper function to transfer data to data folder."
   ]
  },
  {
   "cell_type": "code",
   "execution_count": null,
   "id": "e76cb7de-2026-42b6-bb41-63c9db053e95",
   "metadata": {},
   "outputs": [],
   "source": [
    "def update_data(source_path, destination_path):\n",
    "    transferData = ta.transferDataUtil()\n",
    "    transferData.syncData(source_path, destination_path)"
   ]
  },
  {
   "cell_type": "markdown",
   "id": "3d9cd2fe-f2ff-46f2-bdad-b1a8ed966473",
   "metadata": {},
   "source": [
    "# 2. Validation<a class=\"anchor\" id=\"VALIDATION\"></a>"
   ]
  },
  {
   "cell_type": "markdown",
   "id": "779d15d5-7ac0-4c3d-953e-eee7c80f1e32",
   "metadata": {},
   "source": [
    "Here we are going to validate that the code is working as expected. Starting with the data parser and progressively moving towards the more advanced features."
   ]
  },
  {
   "cell_type": "markdown",
   "id": "3139d65d-29c2-445b-9105-7f0db5ff3a81",
   "metadata": {},
   "source": [
    "## 2.1. Parsing<a class=\"anchor\" id=\"PARSING\"></a>"
   ]
  },
  {
   "cell_type": "code",
   "execution_count": null,
   "id": "72f9e32f-0fc3-4c35-ac47-c5a115d92361",
   "metadata": {},
   "outputs": [],
   "source": [
    "# Parse test data\n",
    "#df_freia_test = mg_read.read_vmm_data(TEST_FOLDER + 'freiatest.pcapng')\n",
    "#df_let_test = mg_read.read_vmm_data(TEST_FOLDER + 'cspec_for_alex.pcapng')\n",
    "df_cspec_for_alex_2 = mg_read.read_vmm_data(TEST_FOLDER + 'cspec_for_alex_2.pcapng')\n",
    "#df_frapi_test_1 = mg_read.read_vmm_data(TEST_FOLDER + '20220224_161540_duration_s_5_run_2_00000.pcapng')"
   ]
  },
  {
   "cell_type": "code",
   "execution_count": null,
   "id": "f66b2e65-487d-416d-8195-109c46c58215",
   "metadata": {},
   "outputs": [],
   "source": [
    "# Declare visualization plot function\n",
    "def plot_vmm_data(df, title):\n",
    "    columns = list(df)\n",
    "    xy_plot_ids = np.array([4, 5, 6, 7, 8, 9, 13, 17, 18]) - 1\n",
    "    for i, column in enumerate(columns):\n",
    "        fig = plt.figure()\n",
    "        df_temp = df[column].to_numpy()\n",
    "        if i in xy_plot_ids:\n",
    "            plt.plot(df_temp, color='black')\n",
    "            plt.xlabel('Readout number')\n",
    "            plt.ylabel(column)\n",
    "        elif column == 'ring':\n",
    "            plt.hist(df_temp, color='black', histtype='step', range=[-0.5, 23.5], bins=24)\n",
    "            plt.xlabel(column)\n",
    "            plt.ylabel('Counts')\n",
    "        elif column == 'channel':\n",
    "            plt.hist(df_temp, color='black', histtype='step', range=[-0.5, 63.5], bins=64)\n",
    "            plt.xlabel(column)\n",
    "            plt.ylabel('Counts')\n",
    "        else:\n",
    "            plt.hist(df_temp, color='black', histtype='step')\n",
    "            plt.xlabel(column)\n",
    "            plt.ylabel('Counts')\n",
    "        plt.title(column)\n",
    "        plt.grid(True, which='major', linestyle='--', zorder=0)\n",
    "        plt.grid(True, which='minor', linestyle='--', zorder=0)\n",
    "        plt.title('%s.pcapng\\n%s' % (title, column))\n",
    "        plt.tight_layout()\n",
    "        fig.savefig('../output/%s_%s.png' % (title, column))\n",
    "    \n",
    "def plot_time_stamp(df, time_resolution, title):\n",
    "    # Plot event time stamps\n",
    "    fig = plt.figure()\n",
    "    time_stamps = df['time_hi'].to_numpy() + df['time_lo'].to_numpy() * time_resolution\n",
    "    pulse_times = df['PulseTimeHI'].to_numpy() + df['PulseTimeLO'].to_numpy() * time_resolution\n",
    "    prev_pulse_times = df['PrevPulseTimeHI'].to_numpy() + df['PrevPulseTimeLO'].to_numpy() * time_resolution\n",
    "    plt.plot(time_stamps, color='black', label='time')\n",
    "    plt.plot(pulse_times, color='red', label='PulseTime')\n",
    "    plt.plot(prev_pulse_times, color='blue', label='PrevPulseTime')\n",
    "    plt.grid(True, which='major', linestyle='--', zorder=0)\n",
    "    plt.grid(True, which='minor', linestyle='--', zorder=0)\n",
    "    plt.xlabel('Readout number')\n",
    "    plt.ylabel('Time (s)')\n",
    "    fig.set_figheight(6)\n",
    "    fig.set_figwidth(12)\n",
    "    plt.legend(title='Data', bbox_to_anchor=(0.68, 1.13), ncol=3)\n",
    "    plt.title('%s.pcapng\\nTimestamp comparison\\n\\n\\n' % title)\n",
    "    plt.tight_layout()\n",
    "    plt.show()\n",
    "    fig.savefig('../output/%s_timestamp_comparison.png' % title)\n",
    "    # Plot delta t\n",
    "    fig = plt.figure()\n",
    "    time_stamps = df['time_hi'].to_numpy() + df['time_lo'].to_numpy() * time_resolution\n",
    "    delta_time_stamps = np.diff(time_stamps)\n",
    "    plt.hist(delta_time_stamps, color='black', label='$\\Delta$time', range=[0, 0.000005], bins=100)\n",
    "    plt.grid(True, which='major', linestyle='--', zorder=0)\n",
    "    plt.grid(True, which='minor', linestyle='--', zorder=0)\n",
    "    plt.ylabel('Counts')\n",
    "    plt.xlabel('Delta time (s)')\n",
    "    plt.title('%s.pcapng\\nDelta timestamp' % title)\n",
    "    plt.tight_layout()\n",
    "    plt.show()\n",
    "    fig.savefig('../output/%s_delta_timestamp.png' % title)\n",
    "\n",
    "    \n",
    "def plot_fen_and_vmm(df, title):\n",
    "    fig = plt.figure()\n",
    "    plt.hist2d(df.fen, df.vmm, bins=[2, 3],\n",
    "           range=[[-0.5, 1.5], [-0.5, 2.5]],\n",
    "           cmap='jet'\n",
    "              )\n",
    "    plt.xlabel('fen')\n",
    "    plt.xticks([0, 1])\n",
    "    plt.yticks([0, 1, 2])\n",
    "    plt.ylabel('vmm')\n",
    "    plt.title('%s.pcapng\\nfen vs vmm' % title)\n",
    "    cbar = plt.colorbar()\n",
    "    cbar.set_label('Counts')\n",
    "    fig.savefig('../output/%s_fen_vs_vmm.png' % title)\n",
    "    \n",
    "def plot_vmm_and_channel_events(df, title):\n",
    "    fig = plt.figure()\n",
    "    plt.subplot(1, 2, 1)\n",
    "    df_fen_0 = df[df.fen == 0]\n",
    "    plt.hist2d(df_fen_0.vmm, df_fen_0.channel, bins=[3, 64],\n",
    "               range=[[-0.5, 2.5], [-0.5, 63.5]],\n",
    "               norm=LogNorm(),\n",
    "               cmap='jet')\n",
    "    plt.xlabel('vmm')\n",
    "    plt.xticks([0, 1, 2])\n",
    "    plt.ylabel('channel')\n",
    "    plt.title('fen 0')\n",
    "    cbar = plt.colorbar()\n",
    "    cbar.set_label('Counts')\n",
    "    plt.subplot(1, 2, 2)\n",
    "    df_fen_1 = df[df.fen == 1]\n",
    "    plt.hist2d(df_fen_1.vmm, df_fen_1.channel, bins=[3, 64],\n",
    "               norm=LogNorm(),\n",
    "               range=[[-0.5, 2.5], [-0.5, 63.5]],\n",
    "               cmap='jet')\n",
    "    plt.xlabel('vmm')\n",
    "    plt.xticks([0, 1, 2])\n",
    "    plt.ylabel('channel')\n",
    "    plt.title('fen 1')\n",
    "    cbar = plt.colorbar()\n",
    "    cbar.set_label('Counts')\n",
    "    plt.tight_layout()\n",
    "    fig.set_figheight(3.5)\n",
    "    fig.set_figwidth(10)\n",
    "    fig.savefig('../output/%s_vmm_vs_channel.png' % title)\n",
    "    \n"
   ]
  },
  {
   "cell_type": "code",
   "execution_count": null,
   "id": "3cf5b4be-d911-4a63-8898-cc9342f5ded2",
   "metadata": {
    "tags": []
   },
   "outputs": [],
   "source": [
    "# Plot some test data\n",
    "plot_vmm_data(df_cspec_for_alex_2, 'df_cspec_for_alex_2')\n",
    "plot_time_stamp(df_cspec_for_alex_2, (1 / (88.0525 * 1e6)), 'df_cspec_for_alex_2')\n",
    "plot_fen_and_vmm(df_cspec_for_alex_2, 'df_cspec_for_alex_2')\n",
    "plot_vmm_and_channel_events(df_cspec_for_alex_2, 'df_cspec_for_alex_2')"
   ]
  },
  {
   "cell_type": "code",
   "execution_count": null,
   "id": "92ddc0f3-e020-4c36-83e1-f33608b8665c",
   "metadata": {
    "tags": []
   },
   "outputs": [],
   "source": [
    "plot_vmm_data(df_cspec_for_alex_2, 'cspec_for_alex_2')"
   ]
  },
  {
   "cell_type": "markdown",
   "id": "b5f8a8c7-d654-479a-8732-ae7a868f1b05",
   "metadata": {},
   "source": [
    "## 2.2. Clustering<a class=\"anchor\" id=\"CLUSTERING\"></a>"
   ]
  },
  {
   "cell_type": "code",
   "execution_count": null,
   "id": "8fffe7dd-0627-47d4-b44c-3ae92493d458",
   "metadata": {
    "tags": []
   },
   "outputs": [],
   "source": [
    "# Cluster test data\n",
    "df_clusters_cspec_for_alex_2 = mg_cluster.cluster_vmm_data(df_cspec_for_alex_2)"
   ]
  },
  {
   "cell_type": "code",
   "execution_count": null,
   "id": "02ee7779-61bc-4f83-81d4-f8c5660b59e6",
   "metadata": {},
   "outputs": [],
   "source": [
    "# Declare visualization functions\n",
    "def plot_vmm_and_channel(df, title):\n",
    "    fig = plt.figure()\n",
    "    plt.subplot(1, 2, 1)\n",
    "    df_fen_0 = df[df.fen == 0]\n",
    "    plt.hist2d(df_fen_0.wch, df_fen_0.gch_max, bins=[96, 51],\n",
    "               range=[[-0.5, 95.5], [-0.5, 50.5]],\n",
    "               norm=LogNorm(),\n",
    "               cmap='jet')\n",
    "    plt.xlabel('Wire (channel)')\n",
    "    plt.ylabel('Grid (channel)')\n",
    "    plt.title('fen 0')\n",
    "    cbar = plt.colorbar()\n",
    "    cbar.set_label('Counts')\n",
    "    plt.gca().invert_yaxis()\n",
    "    plt.subplot(1, 2, 2)\n",
    "    df_fen_1 = df[df.fen == 1]\n",
    "    plt.hist2d(df_fen_1.wch, df_fen_1.gch_max, bins=[96, 51],\n",
    "               norm=LogNorm(),\n",
    "               range=[[-0.5, 95.5], [-0.5, 50.5]],\n",
    "               cmap='jet')\n",
    "    plt.xlabel('Wire (channel)')\n",
    "    plt.ylabel('Grid (channel)')\n",
    "    plt.title('fen 1')\n",
    "    cbar = plt.colorbar()\n",
    "    cbar.set_label('Counts')\n",
    "    plt.tight_layout()\n",
    "    plt.gca().invert_yaxis()\n",
    "    fig.set_figheight(3.5)\n",
    "    fig.set_figwidth(10)\n",
    "    fig.savefig('../output/%s_clusters_wch_vs_gch.png' % title)\n",
    "    \n",
    "def plot_tof(df, title):\n",
    "    fig = plt.figure()\n",
    "    plt.hist(df.tof, color='black', bins=100)\n",
    "    plt.grid(True, which='major', linestyle='--', zorder=0)\n",
    "    plt.grid(True, which='minor', linestyle='--', zorder=0)\n",
    "    plt.xlabel('tof (s)')\n",
    "    plt.ylabel('Counts')\n",
    "    plt.title('%s.pcapng\\nTime-of-Flight' % title)\n",
    "    fig.savefig('../output/%s_tof.png' % title)\n",
    "    \n",
    "def plot_multiplicity(df, title):\n",
    "    font_size = 9\n",
    "    fig = plt.figure()\n",
    "    plt.subplot(1, 2, 1)\n",
    "    df_fen_0 = df[df.fen == 0]\n",
    "    hist, xbins, ybins, im = plt.hist2d(df_fen_0.wm, df_fen_0.gm, bins=[5, 5],\n",
    "                                        range=[[-0.5, 4.5], [-0.5, 4.5]],\n",
    "                                      # norm=LogNorm(),\n",
    "                                        cmap='jet')\n",
    "    tot = df_fen_0.shape[0]\n",
    "    for i in range(len(ybins)-1):\n",
    "        for j in range(len(xbins)-1):\n",
    "            if hist[j, i] > 0:\n",
    "                text = plt.text(xbins[j]+0.5, ybins[i]+0.5,\n",
    "                                '%.1f%%' % (100*(hist[j, i]/tot)),\n",
    "                                color=\"w\", ha=\"center\", va=\"center\",\n",
    "                                fontweight=\"bold\", fontsize=font_size)\n",
    "                text.set_path_effects([path_effects.Stroke(linewidth=1,\n",
    "                                                           foreground='black'),\n",
    "                                       path_effects.Normal()])\n",
    "    plt.xlabel('Wires')\n",
    "    plt.ylabel('Grids')\n",
    "    plt.title('fen 0')\n",
    "    cbar = plt.colorbar()\n",
    "    cbar.set_label('Counts')\n",
    "    plt.subplot(1, 2, 2)\n",
    "    df_fen_1 = df[df.fen == 1]\n",
    "    hist, xbins, ybins, im = plt.hist2d(df_fen_1.wm, df_fen_1.gm, bins=[5, 5],\n",
    "                                      # norm=LogNorm(),\n",
    "                                       range=[[-0.5, 4.5], [-0.5, 4.5]],\n",
    "                                       cmap='jet')\n",
    "    tot = df_fen_1.shape[0]\n",
    "    for i in range(len(ybins)-1):\n",
    "        for j in range(len(xbins)-1):\n",
    "            if hist[j, i] > 0:\n",
    "                text = plt.text(xbins[j]+0.5, ybins[i]+0.5,\n",
    "                                '%.1f%%' % (100*(hist[j, i]/tot)),\n",
    "                                color=\"w\", ha=\"center\", va=\"center\",\n",
    "                                fontweight=\"bold\", fontsize=font_size)\n",
    "                text.set_path_effects([path_effects.Stroke(linewidth=1,\n",
    "                                                           foreground='black'),\n",
    "                                       path_effects.Normal()])\n",
    "    plt.xlabel('Wires')\n",
    "    plt.ylabel('Grids')\n",
    "    plt.title('fen 1')\n",
    "    cbar = plt.colorbar()\n",
    "    cbar.set_label('Counts')\n",
    "    fig.set_figheight(4)\n",
    "    fig.set_figwidth(9)\n",
    "    plt.tight_layout()\n",
    "    fig.savefig('../output/%s_clusters_multiplicity.png' % title)\n",
    "\n",
    "def plot_3D_hist(df, title):\n",
    "    # Calculate 3D histogram\n",
    "    H, edges = np.histogramdd(df[['wch', 'gch_max', 'fen']].values,\n",
    "                              bins=(96, 51, 2),\n",
    "                              range=((0, 96), (0, 51), (0, 2))\n",
    "                              )\n",
    "    # Insert results into an array\n",
    "    hist = [[], [], [], []]\n",
    "    loc = 0\n",
    "    labels = []\n",
    "    for wch in range(0, 96):\n",
    "        for gch_max in range(0, 51):\n",
    "            for fen in range(0, 2):\n",
    "                x_pos = (wch // 16) * 22.5 + fen * (5 * 22.5 + 4 + 22.5)\n",
    "                y_pos = (50 - gch_max) * 22.5\n",
    "                z_pos = (wch % 16) * 10\n",
    "                hist[0].append(x_pos)\n",
    "                hist[1].append(y_pos)\n",
    "                hist[2].append(z_pos)\n",
    "                hist[3].append(H[wch, gch_max, fen])\n",
    "                loc += 1\n",
    "                labels.append('Wire channel: ' + str(wch) + '<br>'\n",
    "                              + 'Grid channel: ' + str(gch_max) + '<br>'\n",
    "                              + 'fen: ' + str(fen) + '<br>'\n",
    "                              + 'Counts: ' + str(H[wch, gch_max, fen])\n",
    "                              )\n",
    "    # Produce 3D histogram plot\n",
    "    MG_3D_trace = go.Scatter3d(x=hist[0],\n",
    "                               y=hist[1],\n",
    "                               z=hist[2],\n",
    "                               mode='markers',\n",
    "                               marker=dict(size=5,\n",
    "                                           color=hist[3],\n",
    "                                           colorscale='Jet',\n",
    "                                           opacity=1,\n",
    "                                           colorbar=dict(thickness=20,\n",
    "                                                         title='Counts'\n",
    "                                                         ),\n",
    "                                           ),\n",
    "                               text=labels,\n",
    "                               name='Multi-Grid',\n",
    "                               scene='scene1'\n",
    "                               )\n",
    "    # Introduce figure and put everything together\n",
    "    fig = py.subplots.make_subplots(rows=1, cols=1, specs=[[{'is_3d': True}]])\n",
    "    # Insert histogram\n",
    "    fig.append_trace(MG_3D_trace, 1, 1)\n",
    "    fig['layout']['scene1']['xaxis'].update(title='x (mm)', range=[-625, 625])\n",
    "    fig['layout']['scene1']['yaxis'].update(title='y (mm)', range=[-50, 1200])\n",
    "    fig['layout']['scene1']['zaxis'].update(title='z (mm)', range=[-625, 625])\n",
    "    fig['layout'].update(title='Coincidences (3D)<br>Data set: ' + str(title) + '.pcapng')\n",
    "    fig.layout.showlegend = False\n",
    "    # Plot\n",
    "    py.offline.init_notebook_mode()\n",
    "    #py.offline.iplot(fig)\n",
    "    py.offline.plot(fig,\n",
    "                    filename='../output/coincident_events_histogram.html',\n",
    "                    auto_open=True)"
   ]
  },
  {
   "cell_type": "code",
   "execution_count": null,
   "id": "178fbc52-ab83-467c-a441-4f8c223ba43e",
   "metadata": {
    "tags": []
   },
   "outputs": [],
   "source": [
    "# Plot some test data\n",
    "plot_vmm_and_channel(df_clusters_cspec_for_alex_2, 'cspec_for_alex_2')\n",
    "plot_multiplicity(df_clusters_cspec_for_alex_2, 'cspec_for_alex_2')\n",
    "plot_tof(df_clusters_cspec_for_alex_2, 'cspec_for_alex_2')\n",
    "plot_3D_hist(df_clusters_cspec_for_alex_2, 'cspec_for_alex_2')"
   ]
  },
  {
   "cell_type": "markdown",
   "id": "66b684af-64f9-4f50-858b-0872611e9479",
   "metadata": {},
   "source": [
    "# 3. Utgård<a class=\"anchor\" id=\"UTGÅRD\"></a>"
   ]
  },
  {
   "cell_type": "code",
   "execution_count": null,
   "id": "48802e3b-ec4a-4ecc-8aea-2e254dca3c39",
   "metadata": {},
   "outputs": [],
   "source": [
    "# Define data paths\n",
    "remote_data_folder = 'essdaq@172.30.244.233:~/pcaps/'\n",
    "local_data_folder = '/Users/alexanderbackis/Documents/code/mg-let-2022-vmm-analysis/data/readout_tests/'\n",
    "# Update data\n",
    "update_data(remote_data_folder, local_data_folder)\n",
    "# Declare path to file of interest\n",
    "file_name = '20220224_154800_duration_s_5_run_2_00000'\n",
    "file_path = local_data_folder + file_name + '.pcapng'\n",
    "# Import  data\n",
    "df_run_0 = mg_read.read_vmm_data(file_path)"
   ]
  }
 ],
 "metadata": {
  "kernelspec": {
   "display_name": "Python 3",
   "language": "python",
   "name": "python3"
  },
  "language_info": {
   "codemirror_mode": {
    "name": "ipython",
    "version": 3
   },
   "file_extension": ".py",
   "mimetype": "text/x-python",
   "name": "python",
   "nbconvert_exporter": "python",
   "pygments_lexer": "ipython3",
   "version": "3.8.8"
  }
 },
 "nbformat": 4,
 "nbformat_minor": 5
}
