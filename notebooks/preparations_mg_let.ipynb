{
 "cells": [
  {
   "cell_type": "markdown",
   "id": "04c8c57a-bc97-4cd9-9105-e8c95b244bbf",
   "metadata": {},
   "source": [
    "<font size=\"5\">\n",
    "\n",
    "# Multi-Grid measurements at LET 2022 - preparations\n",
    "\n",
    "<font size=\"3\">\n",
    "\n",
    "> __Author:__ A. Backis\n",
    "<br/>__Institute:__ University of Glasgow (UoG), European Spallation Source (ESS)\n",
    "<br/>__Date:__ 6/10-2021\n",
    "\n",
    "_Abstract:_\n",
    "This notebook contains the data analysis used for the preparations leading up to the LET measurements with the Multi-Grid detector."
   ]
  },
  {
   "cell_type": "markdown",
   "id": "6fc4606e-b193-4909-bf35-d815988a090b",
   "metadata": {},
   "source": [
    "# Contents\n",
    "    \n",
    "* [1. Introduction](#INTRODUCTION)\n",
    "    * [1.1 Packages](#PACKAGES)\n",
    "    * [1.2 Parameters](#PARAMETERS)\n",
    "* [2. Validation](#VALIDATION)\n",
    "    * [2.1 Parsing](#PARSING)\n",
    "    * [2.2 Clustering](#CLUSTERING)\n",
    "* [3. Utgård](#UTGÅRD) "
   ]
  },
  {
   "cell_type": "markdown",
   "id": "415116df-f928-490b-9ad9-243ee14e3bd8",
   "metadata": {},
   "source": [
    "# 1. Introduction<a class=\"anchor\" id=\"INTRODUCTION\"></a>"
   ]
  },
  {
   "cell_type": "markdown",
   "id": "0001f0e2-1ce0-41d8-8a97-0502eb5d7259",
   "metadata": {},
   "source": [
    "Notebook showing the preparations leading up to the LET measurements."
   ]
  },
  {
   "cell_type": "markdown",
   "id": "d40c0484-e6be-4c88-aba1-9783640add23",
   "metadata": {},
   "source": [
    "## 1.1 Packages<a class=\"anchor\" id=\"PACKAGES\"></a>"
   ]
  },
  {
   "cell_type": "markdown",
   "id": "5f40d622-dee3-4d82-9b50-84c4233e92f9",
   "metadata": {},
   "source": [
    "Import necessary packages."
   ]
  },
  {
   "cell_type": "code",
   "execution_count": null,
   "id": "08aa8dc7-1f81-4cfb-a2d0-f21c174ce429",
   "metadata": {},
   "outputs": [],
   "source": [
    "# Autoload packages when doing an external change\n",
    "%load_ext autoreload\n",
    "%autoreload 2\n",
    "\n",
    "# Activate matplotlib in interactive notebook mode\n",
    "%matplotlib widget\n",
    "\n",
    "# Ensure custom packages can be reached\n",
    "import os\n",
    "import sys\n",
    "import json\n",
    "module_path = os.path.abspath(os.path.join('..'))\n",
    "if module_path not in sys.path:\n",
    "    sys.path.append(module_path)\n",
    "\n",
    "# General packages\n",
    "import os\n",
    "import time\n",
    "import numpy as np\n",
    "import pandas as pd\n",
    "import matplotlib.pyplot as plt\n",
    "from matplotlib.colors import LogNorm\n",
    "import plotly as py\n",
    "import plotly.graph_objs as go\n",
    "import matplotlib.patheffects as path_effects\n",
    "\n",
    "# Custom packages\n",
    "import file_handling.mg_vmm_read as mg_read\n",
    "import file_handling.mg_vmm_cluster as mg_cluster\n",
    "import plotting.mg_vmm_basic_plot as mg_plot\n",
    "import plotting.mg_vmm_debug as mg_debug\n",
    "import mbuty.libTerminal as ta"
   ]
  },
  {
   "cell_type": "markdown",
   "id": "b63ad024-bad7-44df-bb73-613261169a70",
   "metadata": {},
   "source": [
    "## 1.2 Parameters<a class=\"anchor\" id=\"PARAMETERS\"></a>"
   ]
  },
  {
   "cell_type": "markdown",
   "id": "6d46a705-f4cf-438c-9014-55c974f1e932",
   "metadata": {},
   "source": [
    "Define global parameters."
   ]
  },
  {
   "cell_type": "code",
   "execution_count": null,
   "id": "2916f50e-b64a-4417-b75d-c6f943114522",
   "metadata": {},
   "outputs": [],
   "source": [
    "# Constants\n",
    "MODERATOR_TO_SAMPLE_IN_M = 25\n",
    "CSPEC_TYPE = 64\n",
    "TIME_RESOLUTION = 11.36e-9 # seconds\n",
    "\n",
    "# Paths to folders containing data\n",
    "nb_path = os.getcwd()\n",
    "TEST_FOLDER = nb_path + '/../data/test/'"
   ]
  },
  {
   "cell_type": "markdown",
   "id": "3fd32085-c348-41e2-9459-a052ff20a8fc",
   "metadata": {},
   "source": [
    "Prepare JSON file defining detector configuration."
   ]
  },
  {
   "cell_type": "code",
   "execution_count": null,
   "id": "fbbee509-4096-4a27-9a67-df66903988c5",
   "metadata": {},
   "outputs": [],
   "source": [
    "configuration_dict = {'detector': 'MG_LET',\n",
    "                      'columns': 2,\n",
    "                      'grids_per_column': 51,\n",
    "                      'rows_per_grid': 6,\n",
    "                      'layers_per_grid': 16,\n",
    "                      'voxel_pitch_x_in_mm': 22.5, \n",
    "                      'voxel_pitch_y_in_mm': 22.5, # This should be a bit more due to spacing between adjacent grids\n",
    "                      'voxel_pitch_z_in_mm': 10,\n",
    "                      'wire_asic': 0,\n",
    "                      'grid_asic': 1,\n",
    "                      'column_to_electronic': {0: {'Ring': 0, 'FEN': 1, 'Hybrid': 0},\n",
    "                                               1: {'Ring': 0, 'FEN': 1, 'Hybrid': 1}}\n",
    "                      }"
   ]
  },
  {
   "cell_type": "markdown",
   "id": "0741f1bf-da42-46fe-97f6-fbdfe6831eb8",
   "metadata": {},
   "source": [
    "Declare helper function to transfer data to data folder."
   ]
  },
  {
   "cell_type": "code",
   "execution_count": null,
   "id": "e76cb7de-2026-42b6-bb41-63c9db053e95",
   "metadata": {},
   "outputs": [],
   "source": [
    "def update_data(source_path, destination_path):\n",
    "    transferData = ta.transferDataUtil()\n",
    "    transferData.syncData(source_path, destination_path)"
   ]
  },
  {
   "cell_type": "markdown",
   "id": "3d9cd2fe-f2ff-46f2-bdad-b1a8ed966473",
   "metadata": {},
   "source": [
    "# 2. Validation<a class=\"anchor\" id=\"VALIDATION\"></a>"
   ]
  },
  {
   "cell_type": "markdown",
   "id": "779d15d5-7ac0-4c3d-953e-eee7c80f1e32",
   "metadata": {},
   "source": [
    "Here we are going to validate that the code is working as expected. Starting with the data parser and progressively moving towards the more advanced features."
   ]
  },
  {
   "cell_type": "markdown",
   "id": "3139d65d-29c2-445b-9105-7f0db5ff3a81",
   "metadata": {},
   "source": [
    "## 2.1. Parsing<a class=\"anchor\" id=\"PARSING\"></a>"
   ]
  },
  {
   "cell_type": "code",
   "execution_count": null,
   "id": "72f9e32f-0fc3-4c35-ac47-c5a115d92361",
   "metadata": {},
   "outputs": [],
   "source": [
    "# Parse test data\n",
    "#df_freia_test = mg_read.read_vmm_data(TEST_FOLDER + 'freiatest.pcapng')\n",
    "#df_let_test = mg_read.read_vmm_data(TEST_FOLDER + 'cspec_for_alex.pcapng')\n",
    "df_cspec_for_alex_2 = mg_read.read_vmm_data(TEST_FOLDER + 'cspec_for_alex_2.pcapng')\n",
    "#df_frapi_test_1 = mg_read.read_vmm_data(TEST_FOLDER + '20220224_161540_duration_s_5_run_2_00000.pcapng')"
   ]
  },
  {
   "cell_type": "code",
   "execution_count": null,
   "id": "3cf5b4be-d911-4a63-8898-cc9342f5ded2",
   "metadata": {
    "tags": []
   },
   "outputs": [],
   "source": [
    "# Plot some test data\n",
    "mg_plot.plot_vmm_data(df_cspec_for_alex_2, 'df_cspec_for_alex_2')\n",
    "mg_plot.plot_time_stamp(df_cspec_for_alex_2, (1 / (88.0525 * 1e6)), 'df_cspec_for_alex_2')\n",
    "mg_plot.plot_fen_and_vmm(df_cspec_for_alex_2, 'df_cspec_for_alex_2')\n",
    "mg_plot.plot_vmm_and_channel_events(df_cspec_for_alex_2, 'df_cspec_for_alex_2')"
   ]
  },
  {
   "cell_type": "code",
   "execution_count": null,
   "id": "92ddc0f3-e020-4c36-83e1-f33608b8665c",
   "metadata": {
    "tags": []
   },
   "outputs": [],
   "source": [
    "mg_plot.plot_vmm_data(df_cspec_for_alex_2, 'cspec_for_alex_2')"
   ]
  },
  {
   "cell_type": "markdown",
   "id": "b5f8a8c7-d654-479a-8732-ae7a868f1b05",
   "metadata": {},
   "source": [
    "## 2.2. Clustering<a class=\"anchor\" id=\"CLUSTERING\"></a>"
   ]
  },
  {
   "cell_type": "code",
   "execution_count": null,
   "id": "8fffe7dd-0627-47d4-b44c-3ae92493d458",
   "metadata": {
    "tags": []
   },
   "outputs": [],
   "source": [
    "# Cluster test data\n",
    "df_clusters_cspec_for_alex_2 = mg_cluster.cluster_vmm_data(df_cspec_for_alex_2)"
   ]
  },
  {
   "cell_type": "code",
   "execution_count": null,
   "id": "178fbc52-ab83-467c-a441-4f8c223ba43e",
   "metadata": {
    "tags": []
   },
   "outputs": [],
   "source": [
    "# Plot some test data\n",
    "mg_plot.plot_vmm_and_channel(df_clusters_cspec_for_alex_2, 'cspec_for_alex_2')\n",
    "mg_plot.plot_multiplicity(df_clusters_cspec_for_alex_2, 'cspec_for_alex_2')\n",
    "mg_plot.plot_tof(df_clusters_cspec_for_alex_2, 'cspec_for_alex_2')\n",
    "mg_plot.plot_3D_hist(df_clusters_cspec_for_alex_2, 'cspec_for_alex_2')"
   ]
  },
  {
   "cell_type": "markdown",
   "id": "66b684af-64f9-4f50-858b-0872611e9479",
   "metadata": {},
   "source": [
    "# 3. Utgård<a class=\"anchor\" id=\"UTGÅRD\"></a>"
   ]
  },
  {
   "cell_type": "code",
   "execution_count": null,
   "id": "48802e3b-ec4a-4ecc-8aea-2e254dca3c39",
   "metadata": {},
   "outputs": [],
   "source": [
    "# Define data paths\n",
    "remote_data_folder = 'essdaq@172.30.244.19:~/let_utgard_data/'\n",
    "local_data_folder = '/Users/alexanderbackis/Documents/code/mg-let-2022-vmm-analysis/data/let_utgard_data/'\n",
    "# Update data\n",
    "update_data(remote_data_folder, local_data_folder)\n",
    "# Declare path to file of interest\n",
    "file_name = '20220325_143658_pkts100_test_changed_hybrid_test_14_00000'\n",
    "file_path = local_data_folder + file_name + '.pcapng'\n",
    "# Import  data\n",
    "df_run_0 = mg_read.read_vmm_data(file_path)\n",
    "mg_debug.plot_channel_histograms_large(df_run_0, file_name)\n",
    "#mg_debug.plot_adc_histograms(df_run_0, file_name)\n",
    "#mg_debug.plot_channel_vs_adc_2d_histograms(df_run_0, file_name)\n",
    "#mg_debug.plot_time_stamp(df_run_0, TIME_RESOLUTION, file_name)"
   ]
  },
  {
   "cell_type": "code",
   "execution_count": null,
   "id": "0dddc53d-9e81-4c07-b4b1-55acb0e9fdd3",
   "metadata": {},
   "outputs": [],
   "source": [
    "# Define data paths\n",
    "remote_data_folder = 'essdaq@172.30.244.19:~/let_utgard_data/'\n",
    "local_data_folder = '/Users/alexanderbackis/Documents/code/mg-let-2022-vmm-analysis/data/let_utgard_data/'\n",
    "# Update data\n",
    "update_data(remote_data_folder, local_data_folder)\n",
    "# Declare path to file of interest\n",
    "file_name = '20220325_144619_pkts100_A4H0V0_00000'\n",
    "file_path = local_data_folder + file_name + '.pcapng'\n",
    "# Import  data\n",
    "df_run_0 = mg_read.read_vmm_data(file_path)\n",
    "# Plot data\n",
    "mg_debug.plot_channel_histograms_large(df_run_0, file_name)"
   ]
  },
  {
   "cell_type": "code",
   "execution_count": null,
   "id": "85881e10-7b5c-4c2e-b2c5-aeb4ec0b76df",
   "metadata": {},
   "outputs": [],
   "source": [
    "# Define data paths\n",
    "remote_data_folder = 'essdaq@172.30.244.19:~/let_utgard_data/'\n",
    "local_data_folder = '/Users/alexanderbackis/Documents/code/mg-let-2022-vmm-analysis/data/let_utgard_data/'\n",
    "# Update data\n",
    "update_data(remote_data_folder, local_data_folder)\n",
    "# Declare path to file of interest\n",
    "file_name = '20220325_144653_pkts100_A4H0V1_00000'\n",
    "file_path = local_data_folder + file_name + '.pcapng'\n",
    "# Import  data\n",
    "df_run_0 = mg_read.read_vmm_data(file_path)\n",
    "# Plot data\n",
    "mg_debug.plot_channel_histograms_large(df_run_0, file_name)"
   ]
  },
  {
   "cell_type": "code",
   "execution_count": null,
   "id": "b73a1285-7e97-4bfc-a2a3-8aa6ec3849fa",
   "metadata": {},
   "outputs": [],
   "source": [
    "# Define data paths\n",
    "remote_data_folder = 'essdaq@172.30.244.19:~/let_utgard_data/'\n",
    "local_data_folder = '/Users/alexanderbackis/Documents/code/mg-let-2022-vmm-analysis/data/let_utgard_data/'\n",
    "# Update data\n",
    "update_data(remote_data_folder, local_data_folder)\n",
    "# Declare path to file of interest\n",
    "file_name = '20220325_144732_pkts100_A4H1V0_00000'\n",
    "file_path = local_data_folder + file_name + '.pcapng'\n",
    "# Import  data\n",
    "df_run_0 = mg_read.read_vmm_data(file_path)\n",
    "# Plot data\n",
    "mg_debug.plot_channel_histograms_large(df_run_0, file_name)"
   ]
  },
  {
   "cell_type": "code",
   "execution_count": null,
   "id": "85f528fd-61b1-4369-b8c0-5ae1de785783",
   "metadata": {},
   "outputs": [],
   "source": [
    "# Define data paths\n",
    "remote_data_folder = 'essdaq@172.30.244.19:~/let_utgard_data/'\n",
    "local_data_folder = '/Users/alexanderbackis/Documents/code/mg-let-2022-vmm-analysis/data/let_utgard_data/'\n",
    "# Update data\n",
    "update_data(remote_data_folder, local_data_folder)\n",
    "# Declare path to file of interest\n",
    "file_name = '20220325_144759_pkts100_A4H1V1_00000'\n",
    "file_path = local_data_folder + file_name + '.pcapng'\n",
    "# Import  data\n",
    "df_run_0 = mg_read.read_vmm_data(file_path)\n",
    "# Plot data\n",
    "mg_debug.plot_channel_histograms_large(df_run_0, file_name)"
   ]
  },
  {
   "cell_type": "code",
   "execution_count": null,
   "id": "710dbe13-62a8-4cd7-ac6d-eac5723d293c",
   "metadata": {},
   "outputs": [],
   "source": [
    "# Define data paths\n",
    "remote_data_folder = 'essdaq@172.30.244.19:~/let_utgard_data/'\n",
    "local_data_folder = '/Users/alexanderbackis/Documents/code/mg-let-2022-vmm-analysis/data/let_utgard_data/'\n",
    "# Update data\n",
    "update_data(remote_data_folder, local_data_folder)\n",
    "# Declare path to file of interest\n",
    "file_name = '20220325_144857_pkts100_A1H0V0_00000'\n",
    "file_path = local_data_folder + file_name + '.pcapng'\n",
    "# Import  data\n",
    "df_run_0 = mg_read.read_vmm_data(file_path)\n",
    "# Plot data\n",
    "mg_debug.plot_channel_histograms_large(df_run_0, file_name)"
   ]
  },
  {
   "cell_type": "code",
   "execution_count": null,
   "id": "54de1a29-2e40-4da9-84f2-f08a404f4b7e",
   "metadata": {},
   "outputs": [],
   "source": [
    "# Define data paths\n",
    "remote_data_folder = 'essdaq@172.30.244.19:~/let_utgard_data/'\n",
    "local_data_folder = '/Users/alexanderbackis/Documents/code/mg-let-2022-vmm-analysis/data/let_utgard_data/'\n",
    "# Update data\n",
    "update_data(remote_data_folder, local_data_folder)\n",
    "# Declare path to file of interest\n",
    "file_name = '20220325_144918_pkts100_A1H0V1_00000'\n",
    "file_path = local_data_folder + file_name + '.pcapng'\n",
    "# Import  data\n",
    "df_run_0 = mg_read.read_vmm_data(file_path)\n",
    "# Plot data\n",
    "mg_debug.plot_channel_histograms_large(df_run_0, file_name)"
   ]
  },
  {
   "cell_type": "code",
   "execution_count": null,
   "id": "c6b23b67-4638-4b88-b6ff-0cea148b37bd",
   "metadata": {},
   "outputs": [],
   "source": [
    "# Define data paths\n",
    "remote_data_folder = 'essdaq@172.30.244.19:~/let_utgard_data/'\n",
    "local_data_folder = '/Users/alexanderbackis/Documents/code/mg-let-2022-vmm-analysis/data/let_utgard_data/'\n",
    "# Update data\n",
    "update_data(remote_data_folder, local_data_folder)\n",
    "# Declare path to file of interest\n",
    "file_name = '20220325_145026_pkts100_A1H1V0_00000'\n",
    "file_path = local_data_folder + file_name + '.pcapng'\n",
    "# Import  data\n",
    "df_run_0 = mg_read.read_vmm_data(file_path)\n",
    "# Plot data\n",
    "mg_debug.plot_channel_histograms_large(df_run_0, file_name)"
   ]
  },
  {
   "cell_type": "code",
   "execution_count": null,
   "id": "015917e6-5612-4d75-9c78-8abf909a82b8",
   "metadata": {},
   "outputs": [],
   "source": [
    "# Define data paths\n",
    "remote_data_folder = 'essdaq@172.30.244.19:~/let_utgard_data/'\n",
    "local_data_folder = '/Users/alexanderbackis/Documents/code/mg-let-2022-vmm-analysis/data/let_utgard_data/'\n",
    "# Update data\n",
    "update_data(remote_data_folder, local_data_folder)\n",
    "# Declare path to file of interest\n",
    "file_name = '20220325_145058_pkts100_A1H1V1_00000'\n",
    "file_path = local_data_folder + file_name + '.pcapng'\n",
    "# Import  data\n",
    "df_run_0 = mg_read.read_vmm_data(file_path)\n",
    "# Plot data\n",
    "mg_debug.plot_channel_histograms_large(df_run_0, file_name)"
   ]
  },
  {
   "cell_type": "code",
   "execution_count": null,
   "id": "e4dd6d85-a3fc-4d28-b862-b9e1068beb65",
   "metadata": {},
   "outputs": [],
   "source": [
    "# Define data paths\n",
    "remote_data_folder = 'essdaq@172.30.244.19:~/let_utgard_data/'\n",
    "local_data_folder = '/Users/alexanderbackis/Documents/code/mg-let-2022-vmm-analysis/data/let_utgard_data/'\n",
    "# Update data\n",
    "update_data(remote_data_folder, local_data_folder)\n",
    "# Declare path to file of interest\n",
    "file_name = '20220325_145429_pkts100_A4H0V0V1_00000'\n",
    "file_path = local_data_folder + file_name + '.pcapng'\n",
    "# Import  data\n",
    "df_run_0 = mg_read.read_vmm_data(file_path)\n",
    "# Plot data\n",
    "mg_debug.plot_channel_histograms_large(df_run_0, file_name, lower_threshold=250)"
   ]
  },
  {
   "cell_type": "code",
   "execution_count": null,
   "id": "f6553592-e06c-40a6-984f-c22eb772fe9b",
   "metadata": {},
   "outputs": [],
   "source": [
    "# Define data paths\n",
    "remote_data_folder = 'essdaq@172.30.244.19:~/let_utgard_data/'\n",
    "local_data_folder = '/Users/alexanderbackis/Documents/code/mg-let-2022-vmm-analysis/data/let_utgard_data/'\n",
    "# Update data\n",
    "update_data(remote_data_folder, local_data_folder)\n",
    "# Declare path to file of interest\n",
    "file_name = '20220325_160609_pkts100_A4H0V0V1_3_00000'\n",
    "file_path = local_data_folder + file_name + '.pcapng'\n",
    "# Import  data\n",
    "df_run_0 = mg_read.read_vmm_data(file_path)\n",
    "# Plot data\n",
    "mg_debug.plot_channel_histograms_large(df_run_0, file_name, lower_threshold=200, higher_threshold=500)"
   ]
  },
  {
   "cell_type": "code",
   "execution_count": null,
   "id": "b2742e04-2617-4de9-b0ae-08caa02c435a",
   "metadata": {},
   "outputs": [],
   "source": [
    "# Define data paths\n",
    "remote_data_folder = 'essdaq@172.30.244.19:~/let_utgard_data/'\n",
    "local_data_folder = '/Users/alexanderbackis/Documents/code/mg-let-2022-vmm-analysis/data/let_utgard_data/'\n",
    "# Update data\n",
    "update_data(remote_data_folder, local_data_folder)\n",
    "# Declare path to file of interest\n",
    "file_name = '20220325_161246_pkts1000_A4H1V0V1_2_00000'\n",
    "file_path = local_data_folder + file_name + '.pcapng'\n",
    "# Import  data\n",
    "df_run_0 = mg_read.read_vmm_data(file_path)\n",
    "# Plot data\n",
    "mg_debug.plot_channel_histograms_large(df_run_0, file_name, lower_threshold=2000, higher_threshold=4000)"
   ]
  },
  {
   "cell_type": "code",
   "execution_count": null,
   "id": "91ced5ae-c3a6-4341-a533-019acc868001",
   "metadata": {},
   "outputs": [],
   "source": [
    "c"
   ]
  },
  {
   "cell_type": "code",
   "execution_count": null,
   "id": "36b3ec79-61fc-4efa-af94-22bd2397f583",
   "metadata": {},
   "outputs": [],
   "source": [
    "# Define data paths\n",
    "remote_data_folder = 'essdaq@172.30.244.19:~/let_utgard_data/'\n",
    "local_data_folder = '/Users/alexanderbackis/Documents/code/mg-let-2022-vmm-analysis/data/let_utgard_data/'\n",
    "# Update data\n",
    "update_data(remote_data_folder, local_data_folder)\n",
    "# Declare path to file of interest\n",
    "file_name = '20220325_162045_pkts20000_S2S4_00000'\n",
    "file_path = local_data_folder + file_name + '.pcapng'\n",
    "# Import  data\n",
    "df_run_0 = mg_read.read_vmm_data(file_path)\n",
    "# Plot data\n",
    "mg_debug.plot_channel_histograms_large(df_run_0, file_name, lower_threshold=2000, higher_threshold=4000)"
   ]
  },
  {
   "cell_type": "code",
   "execution_count": null,
   "id": "f023e37a-b03a-4b2c-bf6a-71af4bd7051d",
   "metadata": {},
   "outputs": [],
   "source": [
    "# Define data paths\n",
    "remote_data_folder = 'essdaq@172.30.244.19:~/let_utgard_data/'\n",
    "local_data_folder = '/Users/alexanderbackis/Documents/code/mg-let-2022-vmm-analysis/data/let_utgard_data/'\n",
    "# Update data\n",
    "update_data(remote_data_folder, local_data_folder)\n",
    "# Declare path to file of interest\n",
    "file_name = '20220325_162321_pkts2000_S2S4_00000'\n",
    "file_path = local_data_folder + file_name + '.pcapng'\n",
    "# Import  data\n",
    "df_run_0 = mg_read.read_vmm_data(file_path)\n",
    "# Plot data\n",
    "mg_debug.plot_channel_histograms_large(df_run_0, file_name, lower_threshold=2000, higher_threshold=4000)"
   ]
  },
  {
   "cell_type": "code",
   "execution_count": null,
   "id": "c417e995-95e7-4927-9ed6-0ff6ad080dfd",
   "metadata": {},
   "outputs": [],
   "source": [
    "# Define data paths\n",
    "remote_data_folder = 'essdaq@172.30.244.19:~/let_utgard_data/'\n",
    "local_data_folder = '/Users/alexanderbackis/Documents/code/mg-let-2022-vmm-analysis/data/let_utgard_data/'\n",
    "# Update data\n",
    "update_data(remote_data_folder, local_data_folder)\n",
    "# Declare path to file of interest\n",
    "file_name = '20220325_162928_pkts100_S4_00000'\n",
    "file_path = local_data_folder + file_name + '.pcapng'\n",
    "# Import  data\n",
    "df_run_0 = mg_read.read_vmm_data(file_path)\n",
    "# Plot data\n",
    "mg_debug.plot_channel_histograms_large(df_run_0, file_name, lower_threshold=200, higher_threshold=500)"
   ]
  },
  {
   "cell_type": "code",
   "execution_count": null,
   "id": "378e5d25-8464-43e3-8cee-4dbd9c1b0ff5",
   "metadata": {},
   "outputs": [],
   "source": [
    "# Define data paths\n",
    "remote_data_folder = 'essdaq@172.30.244.19:~/let_utgard_data/'\n",
    "local_data_folder = '/Users/alexanderbackis/Documents/code/mg-let-2022-vmm-analysis/data/let_utgard_data/'\n",
    "# Update data\n",
    "update_data(remote_data_folder, local_data_folder)\n",
    "# Declare path to file of interest\n",
    "file_name = '20220325_163011_pkts100_S8_00000'\n",
    "file_path = local_data_folder + file_name + '.pcapng'\n",
    "# Import  data\n",
    "df_run_0 = mg_read.read_vmm_data(file_path)\n",
    "# Plot data\n",
    "mg_debug.plot_channel_histograms_large(df_run_0, file_name, lower_threshold=200, higher_threshold=500)"
   ]
  },
  {
   "cell_type": "code",
   "execution_count": null,
   "id": "8468c25f-f1d5-4d2a-ba15-654a8b92606c",
   "metadata": {},
   "outputs": [],
   "source": [
    "# Define data paths\n",
    "remote_data_folder = 'essdaq@172.30.244.19:~/let_utgard_data/'\n",
    "local_data_folder = '/Users/alexanderbackis/Documents/code/mg-let-2022-vmm-analysis/data/let_utgard_data/'\n",
    "# Update data\n",
    "update_data(remote_data_folder, local_data_folder)\n",
    "# Declare path to file of interest\n",
    "file_name = '20220325_163043_pkts100_S5_00000'\n",
    "file_path = local_data_folder + file_name + '.pcapng'\n",
    "# Import  data\n",
    "df_run_0 = mg_read.read_vmm_data(file_path)\n",
    "# Plot data\n",
    "mg_debug.plot_channel_histograms_large(df_run_0, file_name, lower_threshold=200, higher_threshold=500)"
   ]
  },
  {
   "cell_type": "code",
   "execution_count": null,
   "id": "1c151f5d-9baa-4124-ba0c-16809ca4a524",
   "metadata": {},
   "outputs": [],
   "source": [
    "# Define data paths\n",
    "remote_data_folder = 'essdaq@172.30.244.19:~/let_utgard_data/'\n",
    "local_data_folder = '/Users/alexanderbackis/Documents/code/mg-let-2022-vmm-analysis/data/let_utgard_data/'\n",
    "# Update data\n",
    "update_data(remote_data_folder, local_data_folder)\n",
    "# Declare path to file of interest\n",
    "file_name = '20220325_164242_pkts100_S2_00000'\n",
    "file_path = local_data_folder + file_name + '.pcapng'\n",
    "# Import  data\n",
    "df_run_0 = mg_read.read_vmm_data(file_path)\n",
    "# Plot data\n",
    "mg_debug.plot_channel_histograms_large(df_run_0, file_name, lower_threshold=200, higher_threshold=500)"
   ]
  }
 ],
 "metadata": {
  "kernelspec": {
   "display_name": "Python 3",
   "language": "python",
   "name": "python3"
  },
  "language_info": {
   "codemirror_mode": {
    "name": "ipython",
    "version": 3
   },
   "file_extension": ".py",
   "mimetype": "text/x-python",
   "name": "python",
   "nbconvert_exporter": "python",
   "pygments_lexer": "ipython3",
   "version": "3.8.8"
  }
 },
 "nbformat": 4,
 "nbformat_minor": 5
}
